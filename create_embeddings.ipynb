{
 "cells": [
  {
   "cell_type": "code",
   "execution_count": 2,
   "metadata": {},
   "outputs": [],
   "source": [
    "# Embeddings\n",
    "# from langchain_nvidia_ai_endpoints import NVIDIAEmbeddings\n",
    "from langchain_google_genai import GoogleGenerativeAIEmbeddings\n",
    "\n",
    "# Text Splittter\n",
    "from langchain_text_splitters import RecursiveCharacterTextSplitter\n",
    "\n",
    "# PDF Loader\n",
    "from langchain_community.document_loaders import PyPDFDirectoryLoader\n",
    "\n",
    "# Vector DBs\n",
    "from langchain_community.vectorstores import FAISS\n",
    "\n",
    "# environ\n",
    "import os\n",
    "from dotenv import load_dotenv\n",
    "load_dotenv()\n",
    "\n",
    "# Laod the API Keys\n",
    "os.environ['GOOGLE_API_KEY'] = os.getenv('GEMINI_API_KEY')\n",
    "gemini_api_key = os.getenv('GEMINI_API_KEY')\n",
    "\n",
    "# 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"
   ]
  },
  {
   "cell_type": "markdown",
   "metadata": {},
   "source": [
    "nv_api_key = \"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\"\n",
    "os.environ[\"NVIDIA_API_KEY\"] = nv_api_key"
   ]
  },
  {
   "cell_type": "markdown",
   "metadata": {},
   "source": [
    "embeddings = NVIDIAEmbeddings(model=\"NV-Embed-QA\")"
   ]
  },
  {
   "cell_type": "code",
   "execution_count": 4,
   "metadata": {},
   "outputs": [],
   "source": [
    "embeddings = GoogleGenerativeAIEmbeddings(model = \"models/embedding-001\")\n",
    "loader = PyPDFDirectoryLoader('Product Brochures')\n",
    "docs = loader.load()\n",
    "text_splitter = RecursiveCharacterTextSplitter(chunk_size = 1000, chunk_overlap = 200)\n",
    "final_documents = text_splitter.split_documents(docs)\n",
    "vectors = FAISS.from_documents(final_documents, embeddings)\n",
    "vectors.save_local(folder_path = \"VectorDB/\", index_name = \"Google-001_Embeddings\")"
   ]
  },
  {
   "cell_type": "code",
   "execution_count": 3,
   "metadata": {},
   "outputs": [],
   "source": [
    "embeddings = GoogleGenerativeAIEmbeddings(model = \"models/text-embedding-004\")\n",
    "loader = PyPDFDirectoryLoader('Product Brochures')\n",
    "docs = loader.load()\n",
    "text_splitter = RecursiveCharacterTextSplitter(chunk_size = 1000, chunk_overlap = 200)\n",
    "final_documents = text_splitter.split_documents(docs)\n",
    "vectors = FAISS.from_documents(final_documents, embeddings)\n",
    "vectors.save_local(folder_path = \"VectorDB/\", index_name = \"Google-004_Embeddings\")"
   ]
  },
  {
   "cell_type": "code",
   "execution_count": 4,
   "metadata": {},
   "outputs": [],
   "source": [
    "import google.generativeai as genai"
   ]
  },
  {
   "cell_type": "code",
   "execution_count": 5,
   "metadata": {},
   "outputs": [],
   "source": [
    "genai.configure(api_key = gemini_api_key)"
   ]
  },
  {
   "cell_type": "code",
   "execution_count": 6,
   "metadata": {},
   "outputs": [
    {
     "name": "stdout",
     "output_type": "stream",
     "text": [
      "models/chat-bison-001 ----> ['generateMessage', 'countMessageTokens'] 1024\n",
      "models/text-bison-001 ----> ['generateText', 'countTextTokens', 'createTunedTextModel'] 1024\n",
      "models/embedding-gecko-001 ----> ['embedText', 'countTextTokens'] 1\n",
      "models/gemini-1.0-pro-latest ----> ['generateContent', 'countTokens'] 2048\n",
      "models/gemini-1.0-pro ----> ['generateContent', 'countTokens'] 2048\n",
      "models/gemini-pro ----> ['generateContent', 'countTokens'] 2048\n",
      "models/gemini-1.0-pro-001 ----> ['generateContent', 'countTokens', 'createTunedModel'] 2048\n",
      "models/gemini-1.0-pro-vision-latest ----> ['generateContent', 'countTokens'] 4096\n",
      "models/gemini-pro-vision ----> ['generateContent', 'countTokens'] 4096\n",
      "models/gemini-1.5-pro-latest ----> ['generateContent', 'countTokens'] 8192\n",
      "models/gemini-1.5-pro-001 ----> ['generateContent', 'countTokens', 'createCachedContent'] 8192\n",
      "models/gemini-1.5-pro-002 ----> ['generateContent', 'countTokens', 'createCachedContent'] 8192\n",
      "models/gemini-1.5-pro ----> ['generateContent', 'countTokens'] 8192\n",
      "models/gemini-1.5-pro-exp-0801 ----> ['generateContent', 'countTokens'] 8192\n",
      "models/gemini-1.5-pro-exp-0827 ----> ['generateContent', 'countTokens'] 8192\n",
      "models/gemini-1.5-flash-latest ----> ['generateContent', 'countTokens'] 8192\n",
      "models/gemini-1.5-flash-001 ----> ['generateContent', 'countTokens', 'createCachedContent'] 8192\n",
      "models/gemini-1.5-flash-001-tuning ----> ['generateContent', 'countTokens', 'createTunedModel'] 8192\n",
      "models/gemini-1.5-flash ----> ['generateContent', 'countTokens'] 8192\n",
      "models/gemini-1.5-flash-exp-0827 ----> ['generateContent', 'countTokens'] 8192\n",
      "models/gemini-1.5-flash-002 ----> ['generateContent', 'countTokens', 'createCachedContent'] 8192\n",
      "models/gemini-1.5-flash-8b ----> ['createCachedContent', 'generateContent', 'countTokens'] 8192\n",
      "models/gemini-1.5-flash-8b-001 ----> ['createCachedContent', 'generateContent', 'countTokens'] 8192\n",
      "models/gemini-1.5-flash-8b-latest ----> ['createCachedContent', 'generateContent', 'countTokens'] 8192\n",
      "models/gemini-1.5-flash-8b-exp-0827 ----> ['generateContent', 'countTokens'] 8192\n",
      "models/gemini-1.5-flash-8b-exp-0924 ----> ['generateContent', 'countTokens'] 8192\n",
      "models/embedding-001 ----> ['embedContent'] 1\n",
      "models/text-embedding-004 ----> ['embedContent'] 1\n",
      "models/aqa ----> ['generateAnswer'] 1024\n"
     ]
    }
   ],
   "source": [
    "for i in genai.list_models():\n",
    "    print(i.name, \"---->\", i.supported_generation_methods, i.output_token_limit)"
   ]
  },
  {
   "cell_type": "code",
   "execution_count": null,
   "metadata": {},
   "outputs": [],
   "source": []
  },
  {
   "cell_type": "markdown",
   "metadata": {},
   "source": [
    "embeddings = NVIDIAEmbeddings(model=\"nvidia/nv-embedqa-e5-v5\")"
   ]
  },
  {
   "cell_type": "markdown",
   "metadata": {},
   "source": [
    "# embeddings = GoogleGenerativeAIEmbeddings(model = \"models/embedding-001\")\n",
    "loader = PyPDFDirectoryLoader('Product_Brochures')\n",
    "docs = loader.load()\n",
    "text_splitter = RecursiveCharacterTextSplitter(chunk_size = 500, chunk_overlap = 100)\n",
    "final_documents = text_splitter.split_documents(docs)\n",
    "vectors = FAISS.from_documents(final_documents, embeddings)\n",
    "vectors.save_local(folder_path = \"VectorDB/\", index_name = \"nv-embedqa-e5-v5_Embeddings\")"
   ]
  },
  {
   "cell_type": "markdown",
   "metadata": {},
   "source": [
    "embeddings = NVIDIAEmbeddings(model=\"nvidia/nv-embed-v1\")"
   ]
  },
  {
   "cell_type": "code",
   "execution_count": null,
   "metadata": {},
   "outputs": [],
   "source": []
  }
 ],
 "metadata": {
  "kernelspec": {
   "display_name": "Python 3",
   "language": "python",
   "name": "python3"
  },
  "language_info": {
   "codemirror_mode": {
    "name": "ipython",
    "version": 3
   },
   "file_extension": ".py",
   "mimetype": "text/x-python",
   "name": "python",
   "nbconvert_exporter": "python",
   "pygments_lexer": "ipython3",
   "version": "3.10.0"
  }
 },
 "nbformat": 4,
 "nbformat_minor": 2
}
